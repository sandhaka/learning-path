{
 "cells": [
  {
   "cell_type": "markdown",
   "source": [
    "### Graph storage technique\n",
    "---\n",
    "> The graph\n",
    "![graph](./graphviz.png)"
   ],
   "metadata": {
    "collapsed": false
   },
   "id": "a6348230dfe5e685"
  },
  {
   "cell_type": "code",
   "execution_count": 2,
   "outputs": [],
   "source": [
    "# Adjacency list\n",
    "\n",
    "adj_list = {\n",
    "    'a': ['b'],\n",
    "    'b': ['c'],\n",
    "    'c': ['a'],\n",
    "    'd': ['b'],\n",
    "    'e': ['j'],\n",
    "    'f': ['h'],\n",
    "    'g': ['a'],\n",
    "    'j': ['h', 'd'],\n",
    "    'h': ['g'],\n",
    "    'i': ['a'],\n",
    "    'm': ['n'],\n",
    "    'n': []\n",
    "}"
   ],
   "metadata": {
    "collapsed": false,
    "ExecuteTime": {
     "end_time": "2023-11-01T23:46:15.268337Z",
     "start_time": "2023-11-01T23:46:15.253501Z"
    }
   },
   "id": "8cafb9fa4d8e695d"
  },
  {
   "cell_type": "code",
   "execution_count": null,
   "outputs": [],
   "source": [
    "# Adjacency matrix\n",
    "\n",
    "adj_m = [\n",
    "#    a, b, c, d, e, f, g, h, j, h, i, m, n\n",
    "    [0, 1, 0, 0, 0, 0, 0, 0, 0, 0, 0, 0, 0],\n",
    "    [0, 0, 1, 0, 0, 0, 0, 0, 0, 0, 0, 0, 0],\n",
    "    [1, 0, 0, 0, 0, 0, 0, 0, 0, 0, 0, 0, 0],\n",
    "    [0, 1, 0, 0, 0, 0, 0, 0, 0, 0, 0, 0, 0],\n",
    "    [0, 0, 0, 0, 0, 0, 0, 0, 1, 0, 0, 0, 0],\n",
    "    [0, 0, 0, 0, 0, 0, 0, 0, 0, 1, 0, 0, 0],\n",
    "    [1, 0, 0, 0, 0, 0, 0, 0, 0, 0, 0, 0, 0],\n",
    "    [0, 0, 0, 1, 0, 0, 0, 1, 0, 0, 0, 0, 0],\n",
    "    [0, 0, 0, 0, 0, 0, 1, 0, 0, 0, 0, 0, 0],\n",
    "    [1, 0, 0, 0, 0, 0, 0, 0, 0, 0, 0, 0, 0],\n",
    "    [0, 0, 0, 0, 0, 0, 0, 0, 0, 0, 0, 0, 1],\n",
    "    [0, 0, 0, 0, 0, 0, 0, 0, 0, 0, 0, 0, 0]\n",
    "]"
   ],
   "metadata": {
    "collapsed": false
   },
   "id": "e6f9f9e055cd22f9"
  }
 ],
 "metadata": {
  "kernelspec": {
   "display_name": "Python 3",
   "language": "python",
   "name": "python3"
  },
  "language_info": {
   "codemirror_mode": {
    "name": "ipython",
    "version": 2
   },
   "file_extension": ".py",
   "mimetype": "text/x-python",
   "name": "python",
   "nbconvert_exporter": "python",
   "pygments_lexer": "ipython2",
   "version": "2.7.6"
  }
 },
 "nbformat": 4,
 "nbformat_minor": 5
}
