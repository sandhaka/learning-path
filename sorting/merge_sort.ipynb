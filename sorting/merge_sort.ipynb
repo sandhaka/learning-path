{
 "cells": [
  {
   "cell_type": "markdown",
   "source": [
    "## Merge Sort\n",
    "The algorithm has a time complexity of `O(n log n)`"
   ],
   "metadata": {
    "collapsed": false
   }
  },
  {
   "cell_type": "markdown",
   "source": [
    "### The Log n\n",
    "log_2 n is (with suitable rounding) the number of times you can divide n by 2 before reaching 1 (or, equivalently, the number of times you can double 1 before reaching n).\n",
    "So for algorithms that involve dividing the input or the search space approximately in half (merge sort, binary search, quick sort) log_2 appears naturally.\n",
    "Likewise for the height of a full binary tree (and thus algorithms like heap sort): there's one node at the top level, two at the next level, four at the next, and so on:\n",
    "log_2 n is the number of levels you need before you can fit n objects on the bottom level (which means 2n - 1 in the whole tree)."
   ],
   "metadata": {
    "collapsed": false
   }
  },
  {
   "cell_type": "code",
   "execution_count": 7,
   "outputs": [],
   "source": [
    "import math\n",
    "\n",
    "\n",
    "def merge(left, right):  # n - 1 comparisons\n",
    "    result = []\n",
    "    while len(left) > 0 and len(right) > 0:\n",
    "        if left[0] <= right[0]:\n",
    "            result.append(left[0])\n",
    "            left = left[1:]\n",
    "        else:\n",
    "            result.append(right[0])\n",
    "            right = right[1:]\n",
    "    if len(left) > 0:\n",
    "        result.extend(left)\n",
    "    if len(right) > 0:\n",
    "        result.extend(right)\n",
    "    return result\n",
    "\n",
    "def sort(array):\n",
    "    length = len(array)\n",
    "    if length <= 1:\n",
    "        return array\n",
    "    half = math.ceil(length/2)\n",
    "    left = array[:half]\n",
    "    right = array[half:]\n",
    "    left = sort(left)  # n / 2\n",
    "    right = sort(right)  # n / 2, these are log(n)\n",
    "    return merge(left, right)"
   ],
   "metadata": {
    "collapsed": false
   }
  },
  {
   "cell_type": "code",
   "execution_count": 8,
   "outputs": [
    {
     "data": {
      "text/plain": "[11, 12, 22, 25, 64]"
     },
     "execution_count": 2,
     "metadata": {},
     "output_type": "execute_result"
    },
    {
     "data": {
      "text/plain": "[11, 12, 22, 25, 64]"
     },
     "execution_count": 5,
     "metadata": {},
     "output_type": "execute_result"
    },
    {
     "data": {
      "text/plain": "[11, 12, 22, 25, 64]"
     },
     "execution_count": 8,
     "metadata": {},
     "output_type": "execute_result"
    }
   ],
   "source": [
    "sort([64, 25, 12, 22, 11])"
   ],
   "metadata": {
    "collapsed": false
   }
  },
  {
   "cell_type": "code",
   "execution_count": 9,
   "outputs": [
    {
     "data": {
      "text/plain": "[1, 1, 2, 2, 4, 5, 6, 7, 9, 33, 44, 112]"
     },
     "execution_count": 3,
     "metadata": {},
     "output_type": "execute_result"
    },
    {
     "data": {
      "text/plain": "[1, 1, 2, 2, 4, 5, 6, 7, 9, 33, 44, 112]"
     },
     "execution_count": 6,
     "metadata": {},
     "output_type": "execute_result"
    },
    {
     "data": {
      "text/plain": "[1, 1, 2, 2, 4, 5, 6, 7, 9, 33, 44, 112]"
     },
     "execution_count": 9,
     "metadata": {},
     "output_type": "execute_result"
    }
   ],
   "source": [
    "sort([1, 2, 4, 5, 6, 9, 112, 2, 1, 33, 44, 7])"
   ],
   "metadata": {
    "collapsed": false
   }
  }
 ],
 "metadata": {
  "kernelspec": {
   "display_name": "Python 3",
   "language": "python",
   "name": "python3"
  },
  "language_info": {
   "codemirror_mode": {
    "name": "ipython",
    "version": 2
   },
   "file_extension": ".py",
   "mimetype": "text/x-python",
   "name": "python",
   "nbconvert_exporter": "python",
   "pygments_lexer": "ipython2",
   "version": "2.7.6"
  }
 },
 "nbformat": 4,
 "nbformat_minor": 0
}
