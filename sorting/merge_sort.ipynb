{
 "cells": [
  {
   "cell_type": "markdown",
   "source": [
    "## Merge Sort\n",
    "The algorithm has a time complexity of `O(n log n)`"
   ],
   "metadata": {
    "collapsed": false
   }
  },
  {
   "cell_type": "markdown",
   "source": [
    "### The Log n\n",
    "log_2 n is (with suitable rounding) the number of times you can divide n by 2 before reaching 1 (or, equivalently, the number of times you can double 1 before reaching n).\n",
    "So for algorithms that involve dividing the input or the search space approximately in half (merge sort, binary search, quick sort) log_2 appears naturally.\n",
    "Likewise for the height of a full binary tree (and thus algorithms like heap sort): there's one node at the top level, two at the next level, four at the next, and so on:\n",
    "log_2 n is the number of levels you need before you can fit n objects on the bottom level (which means 2n - 1 in the whole tree)."
   ],
   "metadata": {
    "collapsed": false
   }
  },
  {
   "cell_type": "code",
   "execution_count": 10,
   "outputs": [],
   "source": [
    "import math\n",
    "\n",
    "\n",
    "def merge(left, right):  # n - 1 comparisons\n",
    "    result = []\n",
    "    while len(left) > 0 and len(right) > 0:\n",
    "        if left[0] <= right[0]:\n",
    "            result.append(left[0])\n",
    "            left = left[1:]\n",
    "        else:\n",
    "            result.append(right[0])\n",
    "            right = right[1:]\n",
    "    if len(left) > 0:\n",
    "        result.extend(left)\n",
    "    if len(right) > 0:\n",
    "        result.extend(right)\n",
    "    return result\n",
    "\n",
    "def sort(array):\n",
    "    length = len(array)\n",
    "    if length <= 1:\n",
    "        return array\n",
    "    half = math.ceil(length/2)\n",
    "    left = array[:half]\n",
    "    right = array[half:]\n",
    "    left = sort(left)  # n / 2\n",
    "    right = sort(right)  # n / 2, these are log(n)\n",
    "    return merge(left, right)"
   ],
   "metadata": {
    "collapsed": false
   }
  },
  {
   "cell_type": "code",
   "execution_count": 11,
   "outputs": [
    {
     "data": {
      "text/plain": "[11, 12, 22, 25, 64]"
     },
     "execution_count": 11,
     "metadata": {},
     "output_type": "execute_result"
    }
   ],
   "source": [
    "sort([64, 25, 12, 22, 11])"
   ],
   "metadata": {
    "collapsed": false
   }
  },
  {
   "cell_type": "code",
   "execution_count": 12,
   "outputs": [
    {
     "data": {
      "text/plain": "[1, 1, 2, 2, 4, 5, 6, 7, 9, 33, 44, 112]"
     },
     "execution_count": 12,
     "metadata": {},
     "output_type": "execute_result"
    }
   ],
   "source": [
    "sort([1, 2, 4, 5, 6, 9, 112, 2, 1, 33, 44, 7])"
   ],
   "metadata": {
    "collapsed": false
   }
  },
  {
   "metadata": {},
   "cell_type": "markdown",
   "source": [
    "Sort\n",
    "- Split array length, take index `half`.\n",
    "- Slice left array: sx half of the original.\n",
    "- Slice right array: dx half of the original.\n",
    "- Recall sort with the left array.\n",
    "- Recall sort with the right array.\n",
    "\n",
    "We have split recursively the original array until length = 1 of each.\n",
    "\n",
    "Merge\n",
    "- While left and right has elements:\n",
    "    - Compare first elements of the arrays\n",
    "    - Append the smaller to the result array\n",
    "    - Remove the element from the original array\n",
    "    - If the left array has elements left, add these to result array\n",
    "    - If the right array has elements left, add these to result array\n",
    "    - Return result array"
   ]
  }
 ],
 "metadata": {
  "kernelspec": {
   "display_name": "Python 3",
   "language": "python",
   "name": "python3"
  },
  "language_info": {
   "codemirror_mode": {
    "name": "ipython",
    "version": 2
   },
   "file_extension": ".py",
   "mimetype": "text/x-python",
   "name": "python",
   "nbconvert_exporter": "python",
   "pygments_lexer": "ipython2",
   "version": "2.7.6"
  }
 },
 "nbformat": 4,
 "nbformat_minor": 0
}
