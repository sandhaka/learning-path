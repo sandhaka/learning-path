{
 "cells": [
  {
   "cell_type": "markdown",
   "source": [
    "## Selection Sort\n",
    "The algorithm has a time complexity of `O(n^2)`"
   ],
   "metadata": {
    "collapsed": false
   }
  },
  {
   "cell_type": "code",
   "execution_count": 1,
   "outputs": [],
   "source": [
    "def sort(array):\n",
    "    for i, el in enumerate(array):  # n\n",
    "        minj = i\n",
    "        for j, el1 in enumerate(array[i + 1:]):  # n - i\n",
    "            if el1 < array[minj]:\n",
    "                minj = j + i + 1\n",
    "        if minj != i:\n",
    "            array[i] = array[minj]\n",
    "            array[minj] = el\n",
    "    return array"
   ],
   "metadata": {
    "collapsed": false
   }
  },
  {
   "cell_type": "code",
   "execution_count": 5,
   "outputs": [
    {
     "data": {
      "text/plain": "[0, 1, 2, 22, 32, 33, 33, 34, 34, 42, 78, 87, 90, 123]"
     },
     "execution_count": 5,
     "metadata": {},
     "output_type": "execute_result"
    }
   ],
   "source": [
    "sort([123, 1, 34, 34, 78, 87, 22, 2, 33, 33, 32, 90, 0, 42])"
   ],
   "metadata": {
    "collapsed": false
   }
  },
  {
   "cell_type": "code",
   "execution_count": 3,
   "outputs": [
    {
     "data": {
      "text/plain": "[1, 1, 2, 2, 4, 5, 6, 7, 9, 33, 44, 112]"
     },
     "execution_count": 3,
     "metadata": {},
     "output_type": "execute_result"
    }
   ],
   "source": [
    "sort([1, 2, 4, 5, 6, 9, 112, 2, 1, 33, 44, 7])"
   ],
   "metadata": {
    "collapsed": false
   }
  }
 ],
 "metadata": {
  "kernelspec": {
   "display_name": "Python 3",
   "language": "python",
   "name": "python3"
  },
  "language_info": {
   "codemirror_mode": {
    "name": "ipython",
    "version": 2
   },
   "file_extension": ".py",
   "mimetype": "text/x-python",
   "name": "python",
   "nbconvert_exporter": "python",
   "pygments_lexer": "ipython2",
   "version": "2.7.6"
  }
 },
 "nbformat": 4,
 "nbformat_minor": 0
}
