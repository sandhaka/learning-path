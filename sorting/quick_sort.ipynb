{
 "cells": [
  {
   "cell_type": "markdown",
   "source": [
    "## Quick Sort\n",
    "The algorithm has a time complexity of `O(n^2)`"
   ],
   "metadata": {
    "collapsed": false
   }
  },
  {
   "cell_type": "code",
   "execution_count": 1,
   "outputs": [],
   "source": [
    "def swap(a, p1, p2):\n",
    "    temp = a[p1]\n",
    "    a[p1] = a[p2]\n",
    "    a[p2] = temp\n",
    "\n",
    "\n",
    "# i as swap index\n",
    "# j as scan index\n",
    "# to choose partition value\n",
    "def partition(a, lo, hi):\n",
    "    pivot = a[hi]\n",
    "    i = lo - 1\n",
    "    for j in range(lo, hi):\n",
    "        if a[j] <= pivot:\n",
    "            i = i + 1\n",
    "            swap(a, i, j)\n",
    "    i = i + 1\n",
    "    swap(a, i, hi)\n",
    "    return i\n",
    "\n",
    "\n",
    "def sort(array, lo, hi):\n",
    "    if lo >= hi or lo < 0:\n",
    "        return\n",
    "    p = partition(array, lo, hi)\n",
    "    sort(array, lo, p - 1)\n",
    "    sort(array, p + 1, hi)"
   ],
   "metadata": {
    "collapsed": false
   }
  },
  {
   "cell_type": "code",
   "execution_count": 2,
   "outputs": [],
   "source": [
    "sort([123, 1, 34, 34, 78, 87, 22, 2, 33, 33, 32, 90, 0, 42], 0, 13)"
   ],
   "metadata": {
    "collapsed": false
   }
  },
  {
   "cell_type": "code",
   "execution_count": 3,
   "outputs": [],
   "source": [
    "sort([123, 1, 34, 34, 78, 87, 22, 2, 33, 33, 32, 90, 0, 42], 0, 13)"
   ],
   "metadata": {
    "collapsed": false
   }
  }
 ],
 "metadata": {
  "kernelspec": {
   "display_name": "Python 3",
   "language": "python",
   "name": "python3"
  },
  "language_info": {
   "codemirror_mode": {
    "name": "ipython",
    "version": 2
   },
   "file_extension": ".py",
   "mimetype": "text/x-python",
   "name": "python",
   "nbconvert_exporter": "python",
   "pygments_lexer": "ipython2",
   "version": "2.7.6"
  }
 },
 "nbformat": 4,
 "nbformat_minor": 0
}
