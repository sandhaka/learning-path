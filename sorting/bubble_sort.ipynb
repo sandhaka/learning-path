{
 "cells": [
  {
   "cell_type": "markdown",
   "source": [
    "## Bubble Sort\n",
    "The algorithm has a time complexity of `O(n^2)`"
   ],
   "metadata": {
    "collapsed": false
   }
  },
  {
   "cell_type": "code",
   "execution_count": 11,
   "outputs": [],
   "source": [
    "def sort(array):\n",
    "    while True:\n",
    "        swapped = False\n",
    "        for i in range(len(array) - 1):\n",
    "            if array[i] > array[i + 1]:\n",
    "                t = array[i]\n",
    "                array[i] = array[i + 1]\n",
    "                array[i + 1] = t\n",
    "                swapped = True\n",
    "        if swapped is False:\n",
    "            break\n",
    "    return array"
   ],
   "metadata": {
    "collapsed": false
   }
  },
  {
   "cell_type": "code",
   "execution_count": 12,
   "outputs": [
    {
     "data": {
      "text/plain": "[11, 12, 22, 25, 64]"
     },
     "execution_count": 12,
     "metadata": {},
     "output_type": "execute_result"
    }
   ],
   "source": [
    "sort([64, 25, 12, 22, 11])"
   ],
   "metadata": {
    "collapsed": false
   }
  },
  {
   "cell_type": "code",
   "execution_count": 13,
   "outputs": [
    {
     "data": {
      "text/plain": "[0, 1, 2, 11, 22, 32, 33, 34, 42, 56, 78, 87, 90, 123]"
     },
     "execution_count": 13,
     "metadata": {},
     "output_type": "execute_result"
    }
   ],
   "source": [
    "sort([123, 1, 34, 56, 78, 87, 22, 2, 33, 11, 32, 90, 0, 42])"
   ],
   "metadata": {
    "collapsed": false
   }
  },
  {
   "cell_type": "code",
   "execution_count": 14,
   "outputs": [
    {
     "data": {
      "text/plain": "[1, 1, 2, 2, 4, 5, 6, 7, 9, 33, 44, 112]"
     },
     "execution_count": 14,
     "metadata": {},
     "output_type": "execute_result"
    }
   ],
   "source": [
    "sort([1, 2, 4, 5, 6, 9, 112, 2, 1, 33, 44, 7])"
   ],
   "metadata": {
    "collapsed": false
   }
  }
 ],
 "metadata": {
  "kernelspec": {
   "display_name": "Python 3",
   "language": "python",
   "name": "python3"
  },
  "language_info": {
   "codemirror_mode": {
    "name": "ipython",
    "version": 2
   },
   "file_extension": ".py",
   "mimetype": "text/x-python",
   "name": "python",
   "nbconvert_exporter": "python",
   "pygments_lexer": "ipython2",
   "version": "2.7.6"
  }
 },
 "nbformat": 4,
 "nbformat_minor": 0
}
