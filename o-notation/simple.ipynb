{
 "cells": [
  {
   "cell_type": "markdown",
   "source": [
    "### Relevant time complexity analysis"
   ],
   "metadata": {
    "collapsed": false
   },
   "id": "54d0fb2f487f7900"
  },
  {
   "cell_type": "code",
   "execution_count": 5,
   "outputs": [],
   "source": [
    "# n is an input variable\n",
    "n = 100"
   ],
   "metadata": {
    "collapsed": false,
    "ExecuteTime": {
     "end_time": "2023-10-19T15:19:03.869932Z",
     "start_time": "2023-10-19T15:19:03.850810Z"
    }
   },
   "id": "d9266e2fda1f36ec"
  },
  {
   "cell_type": "code",
   "execution_count": 6,
   "outputs": [],
   "source": [
    "a = 0\n",
    "for i in range(n):\n",
    "    for j in range(i, n):\n",
    "        a += i * j"
   ],
   "metadata": {
    "collapsed": false,
    "ExecuteTime": {
     "end_time": "2023-10-19T15:19:03.877255Z",
     "start_time": "2023-10-19T15:19:03.858010Z"
    }
   },
   "id": "d6748f30b082fc0e"
  },
  {
   "cell_type": "markdown",
   "source": [
    "First loop: n time\n",
    "Second loop: n - i time\n",
    "n + (n - 1) + (n - 2) + (n - 3) + ...\n",
    "\n",
    "With partial sum:\n",
    "$O(n(n+1)/2)$ = $O((n^2)/2 + n/2) = O(n^2)$"
   ],
   "metadata": {
    "collapsed": false
   },
   "id": "89dd68185e50a80b"
  },
  {
   "cell_type": "code",
   "execution_count": 7,
   "outputs": [],
   "source": [
    "array = [3, 4, 5, 6, 1, 3 ,4, 5]\n",
    "value = 4\n",
    "\n",
    "def sort():\n",
    "    n = len(array)\n",
    "    low = 0\n",
    "    high = n - 1\n",
    "    while low <= high:\n",
    "        mid = (low + high) / 2\n",
    "        if array[mid] == value:\n",
    "            return mid\n",
    "        elif array[mid] < value: \n",
    "            lo = mid + 1\n",
    "        else: \n",
    "            hi = mid - 1\n",
    "    return -1"
   ],
   "metadata": {
    "collapsed": false,
    "ExecuteTime": {
     "end_time": "2023-10-19T15:19:03.881843Z",
     "start_time": "2023-10-19T15:19:03.864404Z"
    }
   },
   "id": "a72c49f995435e88"
  },
  {
   "cell_type": "markdown",
   "source": [
    "Binary search complexity is:\n",
    "$O(log n)$"
   ],
   "metadata": {
    "collapsed": false
   },
   "id": "4cceb8c8fdcbef48"
  },
  {
   "cell_type": "code",
   "execution_count": 8,
   "outputs": [],
   "source": [
    "i = 0\n",
    "while i < n:\n",
    "    j = 0\n",
    "    while j < 3 * n:\n",
    "        j = j + 1\n",
    "    j = 0\n",
    "    while j < 2 * n:\n",
    "        j = j + 1\n",
    "    i = i + 1"
   ],
   "metadata": {
    "collapsed": false,
    "ExecuteTime": {
     "end_time": "2023-10-19T15:19:03.891330Z",
     "start_time": "2023-10-19T15:19:03.874548Z"
    }
   },
   "id": "8763fba4fb5ef4fe"
  },
  {
   "cell_type": "markdown",
   "source": [
    "$O(n) = O(n * (3n + 2n)) = O(5n^2) = O(n^2)$"
   ],
   "metadata": {
    "collapsed": false
   },
   "id": "5959aff1bbaa7cac"
  },
  {
   "cell_type": "markdown",
   "source": [
    "Other relevant:\n",
    "- Finding all subsets of a set: $O(2^n)$\n",
    "- Finding all permutations of a string: $O(n!)$\n",
    "- Sorting using mergesort: $O(nlog(n))$\n",
    "- Iteration over all the cells in a matrix of size n by m: $O(nm)$"
   ],
   "metadata": {
    "collapsed": false
   },
   "id": "a328771f6774a771"
  }
 ],
 "metadata": {
  "kernelspec": {
   "display_name": "Python 3",
   "language": "python",
   "name": "python3"
  },
  "language_info": {
   "codemirror_mode": {
    "name": "ipython",
    "version": 2
   },
   "file_extension": ".py",
   "mimetype": "text/x-python",
   "name": "python",
   "nbconvert_exporter": "python",
   "pygments_lexer": "ipython2",
   "version": "2.7.6"
  }
 },
 "nbformat": 4,
 "nbformat_minor": 5
}
